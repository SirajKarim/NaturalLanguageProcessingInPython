{
 "cells": [
  {
   "cell_type": "code",
   "execution_count": 1,
   "metadata": {},
   "outputs": [],
   "source": [
    "import spacy "
   ]
  },
  {
   "cell_type": "code",
   "execution_count": 2,
   "metadata": {},
   "outputs": [],
   "source": [
    "nlp=spacy.load('en_core_web_sm')"
   ]
  },
  {
   "cell_type": "code",
   "execution_count": 3,
   "metadata": {},
   "outputs": [],
   "source": [
    "doc=nlp(u\"I am a runner running in race because i love since run\")"
   ]
  },
  {
   "cell_type": "code",
   "execution_count": 8,
   "metadata": {},
   "outputs": [
    {
     "name": "stdout",
     "output_type": "stream",
     "text": [
      "I ------> PRON ------> -PRON-\n",
      "am ------> AUX ------> be\n",
      "a ------> DET ------> a\n",
      "runner ------> NOUN ------> runner\n",
      "running ------> VERB ------> run\n",
      "in ------> ADP ------> in\n",
      "race ------> NOUN ------> race\n",
      "because ------> SCONJ ------> because\n",
      "i ------> PRON ------> i\n",
      "love ------> VERB ------> love\n",
      "since ------> SCONJ ------> since\n",
      "run ------> NOUN ------> run\n"
     ]
    }
   ],
   "source": [
    "for token in doc:\n",
    "    print(token.text+' ------> '+token.pos_+' ------> '+token.lemma_)"
   ]
  },
  {
   "cell_type": "code",
   "execution_count": 9,
   "metadata": {},
   "outputs": [],
   "source": [
    "# StopWords"
   ]
  },
  {
   "cell_type": "code",
   "execution_count": 10,
   "metadata": {},
   "outputs": [
    {
     "name": "stdout",
     "output_type": "stream",
     "text": [
      "{'anyone', 're', 'whom', 'namely', 'elsewhere', 'your', 'none', 'per', 'my', 'more', 'all', 'no', 'becoming', 'make', \"'ve\", \"'d\", 'please', 'though', 'become', 'again', '‘d', 'among', 'afterwards', 'from', 'for', 'as', 'beforehand', \"'s\", 'about', 'latterly', 'thus', 'least', 'nor', 'really', 'call', 'could', 'name', 'everyone', 'whereby', 'top', 'twenty', 'wherever', 'move', 'whose', 'fifteen', 'go', 'empty', 'whole', 'at', \"'ll\", 'until', 'where', 'would', 'seeming', 'put', 'often', 'ever', 'without', 'cannot', 'here', 'front', 'even', 'someone', 'third', 'should', 'besides', 'thereupon', 'around', 'sixty', 'another', 'have', 'well', 'nothing', 'of', 'behind', 'nobody', 'his', 'hereafter', 'too', 'say', 'be', 'once', 'unless', 'therein', 'one', '‘s', 'yet', 'it', 'did', 'never', 'himself', 'made', 'whither', 'her', 'above', 'their', 'either', 'something', 'regarding', 'whereupon', 'used', 'over', 'than', 'within', 'quite', 'themselves', 'she', 'may', 'beside', 'done', 'perhaps', 'already', 'is', 'thereby', 'been', 'under', 'sometime', 'each', '’d', 'in', 'part', 'yourself', 'see', 'these', 'whoever', 'several', 'seems', 'herself', 'into', 'so', 'during', 'what', 'bottom', '’re', 'upon', 'get', 'onto', 'last', 'formerly', 'now', 'rather', 'if', 'sometimes', 'with', 'you', 'various', 'just', 'ten', 'many', 'whatever', 'whereafter', 'those', 'became', 'own', 'ourselves', 'them', 'therefore', 'anything', 'hereupon', '’ll', 'keep', 'every', 'along', 'however', 'anyway', 'being', 'hers', \"n't\", '‘ve', 'since', 'neither', 'throughout', 'yourselves', 'anyhow', 'out', 'do', 'not', 'other', 'most', 'indeed', 'although', 'amongst', 'six', 'moreover', 'to', 'still', '‘m', 'toward', 'then', 'he', 'four', 'further', 'nowhere', 'were', 'almost', 'thence', '’m', 'becomes', 'only', 'everywhere', 'forty', '’ve', 'always', 'together', 'whereas', 'three', '‘ll', 'a', 'everything', 'and', 'next', 'twelve', 'back', 'towards', 'few', 'its', 'herein', 'this', 'must', 'first', 'somewhere', 'any', 'or', 'after', \"'m\", 'through', 'when', 'why', 'give', 'by', 'due', 'between', 'eleven', \"'re\", 'does', 'except', 'on', 'has', 'an', 'me', 'hence', 'some', 'doing', 'there', 'two', 'they', 'via', 'take', 'very', 'how', 'noone', 'that', 'anywhere', 'can', 'am', 'five', 'also', 'show', 'n‘t', 'our', 'the', 'him', 'others', 'itself', 'whether', 'somehow', 'beyond', 'whenever', 'against', 'ca', 'was', 'n’t', 'are', '‘re', 'nine', 'such', 'below', 'less', 'across', 'down', 'up', 'nevertheless', 'mostly', 'whence', 'serious', 'same', 'seem', 'before', 'alone', 'off', 'might', 'while', 'otherwise', 'had', 'else', 'us', 'latter', 'eight', 'hereby', 'thru', 'side', 'mine', 'will', 'both', 'who', 'former', 'much', 'yours', 'we', 'i', 'amount', 'using', 'wherein', 'hundred', '’s', 'enough', 'because', 'myself', 'seemed', 'full', 'which', 'thereafter', 'meanwhile', 'but', 'fifty', 'ours'}\n"
     ]
    }
   ],
   "source": [
    "print(nlp.Defaults.stop_words)"
   ]
  },
  {
   "cell_type": "code",
   "execution_count": 11,
   "metadata": {},
   "outputs": [
    {
     "data": {
      "text/plain": [
       "326"
      ]
     },
     "execution_count": 11,
     "metadata": {},
     "output_type": "execute_result"
    }
   ],
   "source": [
    "len(nlp.Defaults.stop_words)"
   ]
  },
  {
   "cell_type": "code",
   "execution_count": 15,
   "metadata": {},
   "outputs": [
    {
     "data": {
      "text/plain": [
       "True"
      ]
     },
     "execution_count": 15,
     "metadata": {},
     "output_type": "execute_result"
    }
   ],
   "source": [
    "# it checks whether the word is stopword or not\n",
    "nlp.vocab['my'].is_stop"
   ]
  },
  {
   "cell_type": "code",
   "execution_count": 16,
   "metadata": {},
   "outputs": [
    {
     "data": {
      "text/plain": [
       "False"
      ]
     },
     "execution_count": 16,
     "metadata": {},
     "output_type": "execute_result"
    }
   ],
   "source": [
    "nlp.vocab['mysterious'].is_stop"
   ]
  },
  {
   "cell_type": "code",
   "execution_count": 17,
   "metadata": {},
   "outputs": [
    {
     "name": "stdout",
     "output_type": "stream",
     "text": [
      "True\n",
      "True\n",
      "False\n",
      "True\n"
     ]
    }
   ],
   "source": [
    "doc=['is','at','money','on']\n",
    "for sw in doc:\n",
    "    print(nlp.vocab[sw].is_stop)"
   ]
  },
  {
   "cell_type": "code",
   "execution_count": 18,
   "metadata": {},
   "outputs": [],
   "source": [
    "# this line will add the new stop word\n",
    "nlp.Defaults.stop_words.add('btw')"
   ]
  },
  {
   "cell_type": "code",
   "execution_count": 19,
   "metadata": {},
   "outputs": [
    {
     "data": {
      "text/plain": [
       "True"
      ]
     },
     "execution_count": 19,
     "metadata": {},
     "output_type": "execute_result"
    }
   ],
   "source": [
    "nlp.vocab['btw'].is_stop"
   ]
  },
  {
   "cell_type": "code",
   "execution_count": 23,
   "metadata": {},
   "outputs": [],
   "source": [
    "# this line will remove this stop words\n",
    "nlp.Defaults.stop_words.remove('beyond')"
   ]
  },
  {
   "cell_type": "code",
   "execution_count": 24,
   "metadata": {},
   "outputs": [
    {
     "data": {
      "text/plain": [
       "False"
      ]
     },
     "execution_count": 24,
     "metadata": {},
     "output_type": "execute_result"
    }
   ],
   "source": [
    "nlp.vocab['beyond'].is_stop"
   ]
  },
  {
   "cell_type": "code",
   "execution_count": null,
   "metadata": {},
   "outputs": [],
   "source": []
  }
 ],
 "metadata": {
  "kernelspec": {
   "display_name": "Python 3",
   "language": "python",
   "name": "python3"
  },
  "language_info": {
   "codemirror_mode": {
    "name": "ipython",
    "version": 3
   },
   "file_extension": ".py",
   "mimetype": "text/x-python",
   "name": "python",
   "nbconvert_exporter": "python",
   "pygments_lexer": "ipython3",
   "version": "3.7.3"
  }
 },
 "nbformat": 4,
 "nbformat_minor": 2
}
